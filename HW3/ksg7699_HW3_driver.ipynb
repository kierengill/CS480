{
 "cells": [
  {
   "cell_type": "code",
   "execution_count": 188,
   "metadata": {},
   "outputs": [],
   "source": [
    "from functions import *"
   ]
  },
  {
   "cell_type": "code",
   "execution_count": 189,
   "metadata": {},
   "outputs": [],
   "source": [
    "filepath = \"WSJ_02-21.pos\"\n",
    "training_set = training_data(filepath)"
   ]
  },
  {
   "cell_type": "code",
   "execution_count": 190,
   "metadata": {},
   "outputs": [],
   "source": [
    "vocab_dict = build_vocab2idx(filepath)\n",
    "emission_dict, transition_dict, tag_counts = create_dictionaries(training_set, vocab_dict)\n",
    "tags = sorted(tag_counts.keys())"
   ]
  },
  {
   "cell_type": "code",
   "execution_count": 191,
   "metadata": {},
   "outputs": [],
   "source": [
    "alpha = 0.001\n",
    "matrix_A = create_transition_matrix(transition_dict, tag_counts, alpha)\n",
    "matrix_B = create_emission_matrix(emission_dict, tag_counts, list(vocab_dict), alpha)"
   ]
  },
  {
   "cell_type": "code",
   "execution_count": 192,
   "metadata": {},
   "outputs": [],
   "source": [
    "with open(\"WSJ_23.words\", 'r') as f:\n",
    "    test_set = f.read().lower().splitlines()\n",
    "output = open(\"submission.pos\", \"w\")"
   ]
  },
  {
   "cell_type": "code",
   "execution_count": 193,
   "metadata": {},
   "outputs": [],
   "source": [
    "for i in range(0,1285):\n",
    "    tokens = test_set[0+(46*i):46+(46*i)]\n",
    "    processed_tokens = processing(vocab_dict, tokens)\n",
    "    probs, paths = initialize(matrix_A, matrix_B, tag_counts, vocab_dict, tags, processed_tokens)\n",
    "    probs, paths = viterbi_forward(matrix_A, matrix_B, processed_tokens, probs, paths, vocab_dict)\n",
    "    predictions = viterbi_backward(probs, paths, tags)\n",
    "    for tok, tag in zip(processed_tokens[:], predictions[:]):\n",
    "        output.write(tok)\n",
    "        output.write(\"\\t\")\n",
    "        output.write(tag)\n",
    "        output.write(\"\\n\")"
   ]
  },
  {
   "cell_type": "markdown",
   "metadata": {},
   "source": []
  }
 ],
 "metadata": {
  "coursera": {
   "schema_names": [
    "NLPC2-2"
   ]
  },
  "interpreter": {
   "hash": "7a0710614ee17d52294bb97562ff5c30e7192bdf0a4370f6fe4f548681a0db4f"
  },
  "kernelspec": {
   "display_name": "Python 3.8.8 ('base')",
   "language": "python",
   "name": "python3"
  },
  "language_info": {
   "codemirror_mode": {
    "name": "ipython",
    "version": 3
   },
   "file_extension": ".py",
   "mimetype": "text/x-python",
   "name": "python",
   "nbconvert_exporter": "python",
   "pygments_lexer": "ipython3",
   "version": "3.8.8"
  }
 },
 "nbformat": 4,
 "nbformat_minor": 4
}
