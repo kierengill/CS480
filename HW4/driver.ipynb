{
 "cells": [
  {
   "cell_type": "code",
   "execution_count": 297,
   "metadata": {},
   "outputs": [],
   "source": [
    "import numpy as np\n",
    "import nltk, re\n",
    "from functions import *\n"
   ]
  },
  {
   "cell_type": "code",
   "execution_count": 284,
   "metadata": {},
   "outputs": [],
   "source": [
    "Q = []\n",
    "Q_all = ''\n",
    "one,zero = 1,0\n",
    "i = zero\n",
    "with open(\"./cran.qry\") as f:\n",
    "    info = f.read()\n",
    "    for m in re.finditer(re.compile('.W( )*([a-z -/ \\s])*.'), info):\n",
    "        text = (str)(m.group(0))\n",
    "        text = text.replace('.W','')\n",
    "        text = text.replace('.I','')\n",
    "        i += one\n",
    "        text = text.replace('\\r\\n','')\n",
    "        text = removeStopWords(text,stopWords)\n",
    "        Q_all = Q_all+' '+text\n",
    "        Q += [text]\n",
    "#print(i)"
   ]
  },
  {
   "cell_type": "code",
   "execution_count": 285,
   "metadata": {},
   "outputs": [],
   "source": [
    "A=[]\n",
    "A_all=''\n",
    "j = 0\n",
    "with open(\"./cran.all.1400\") as f:\n",
    "    info = f.read()\n",
    "    for m in re.finditer(re.compile('.W( )*([a-z (.A)(.B) 0-9 \\*\\+\\$\\#\\^\\?\\!\\:\\-\\/\\.\\,\\(\\)\\'\\\"\\= \\s])*.I'), info):\n",
    "        text = (str)(m.group(0))\n",
    "        text = text.replace('.W','')\n",
    "        text = text.replace('.I','')\n",
    "        j += 1\n",
    "        text = text.replace('\\r\\n','')\n",
    "        text = removeStopWords(text,stopWords)\n",
    "        A.append(text)\n",
    "        A_all=A_all+text\n",
    "    to_add = removeStopWords('the buckling shear stress of simply-supported infinitely long plates with transverse stiffeners . this report is an extension of previous theoretical investigations of the elastic buckling in shear of flat plates reinforced by transverse stiffeners . the plates are treated as infinitely long and simply-supported along the long sides . stiffeners are spaced at regular intervals, dividing the plate into a number of panels of uniform size . the effect ob bending and torsional stiffnesses of the stiffener upon the buckling shear stress is calculated for the complete range of stiffnesses, for panels with ratios of width to stiffener spacing of graphical forms .' ,stopWords)\n",
    "    A += to_add\n",
    "    A_all = A_all + to_add\n",
    "#print(j)"
   ]
  },
  {
   "cell_type": "code",
   "execution_count": 286,
   "metadata": {},
   "outputs": [],
   "source": [
    "Q_token = nltk.word_tokenize(Q_all)\n",
    "Q_fd = nltk.FreqDist(Q_token)\n",
    "Q_fd_matrix = np.zeros((len(Q),len(Q_fd)))"
   ]
  },
  {
   "cell_type": "code",
   "execution_count": 287,
   "metadata": {},
   "outputs": [],
   "source": [
    "Q_wd={}\n",
    "for word in Q_fd:\n",
    "    for query in Q:\n",
    "        if word in query:\n",
    "            if word in Q_wd:\n",
    "                Q_wd[word] += one\n",
    "            else:\n",
    "                Q_wd[word] = one"
   ]
  },
  {
   "cell_type": "code",
   "execution_count": 288,
   "metadata": {},
   "outputs": [],
   "source": [
    "Q_idf_seq={}\n",
    "Q_idf={}\n",
    "k = zero\n",
    "for word in Q_wd:\n",
    "    Q_idf_seq[word ]= k\n",
    "    Q_idf[word] = np.log(225/Q_wd[word])\n",
    "    i = 0\n",
    "    k += one"
   ]
  },
  {
   "cell_type": "code",
   "execution_count": 289,
   "metadata": {},
   "outputs": [],
   "source": [
    "for query in range(len(Q)):\n",
    "    temp = nltk.word_tokenize(Q[query])\n",
    "    #print(temp)\n",
    "    for token in temp:\n",
    "        i = 0\n",
    "        Q_fd_matrix[query][Q_idf_seq[token]] += one\n",
    "\n",
    "for word in Q_idf:\n",
    "    Q_fd_matrix[:,Q_idf_seq[word]] = Q_fd_matrix[:,Q_idf_seq[word]] * Q_idf[word]\n"
   ]
  },
  {
   "cell_type": "code",
   "execution_count": 290,
   "metadata": {},
   "outputs": [],
   "source": [
    "A_fd = nltk.FreqDist(nltk.word_tokenize(A_all))\n",
    "A_fd_matrix = np.zeros((len(A),len(Q_fd)))"
   ]
  },
  {
   "cell_type": "code",
   "execution_count": 291,
   "metadata": {},
   "outputs": [],
   "source": [
    "A_wd = {}\n",
    "\n",
    "for word in Q_fd:\n",
    "    counter = zero\n",
    "    for query in A:\n",
    "        if word in query:\n",
    "            if word in A_wd:\n",
    "                A_wd[word] += one\n",
    "            else:\n",
    "                A_wd[word] = one\n",
    "        else:\n",
    "            counter += one\n",
    "    if counter == 1400:\n",
    "        A_wd[word] = zero"
   ]
  },
  {
   "cell_type": "code",
   "execution_count": 292,
   "metadata": {},
   "outputs": [],
   "source": [
    "A_idf = {}\n",
    "A_idf_seq = {}\n",
    "counter = zero\n",
    "i = 0\n",
    "for word in A_wd:\n",
    "    A_idf_seq[word] = counter\n",
    "    A_idf[word] = np.log(1400/(A_wd[word]+0.01))\n",
    "    i += 1\n",
    "    counter += one"
   ]
  },
  {
   "cell_type": "code",
   "execution_count": 293,
   "metadata": {},
   "outputs": [],
   "source": [
    "for query in range(len(A)):\n",
    "    temp = nltk.word_tokenize(A[query])\n",
    "    for token in temp:\n",
    "        if token in Q_fd:\n",
    "            A_fd_matrix[query][A_idf_seq[token]] += one"
   ]
  },
  {
   "cell_type": "code",
   "execution_count": 294,
   "metadata": {},
   "outputs": [],
   "source": [
    "CSim_matrix = np.zeros((len(Q),len(A)))\n",
    "for query in range(len(Q)):\n",
    "    for a in range(len(A)):\n",
    "        CSim_matrix[query][a] = cosSimilarity(A_fd_matrix[a,:],Q_fd_matrix[query,:])"
   ]
  },
  {
   "cell_type": "code",
   "execution_count": 295,
   "metadata": {},
   "outputs": [],
   "source": [
    "CSim_matrix = CSim_matrix * 100\n",
    "A_len=len(abstract)\n",
    "x = A_len * 0.001\n",
    "y = x + A_len * 0.002\n",
    "z = y + A_len * 0.003"
   ]
  },
  {
   "cell_type": "code",
   "execution_count": 296,
   "metadata": {},
   "outputs": [],
   "source": [
    "output=open('output','w+')\n",
    "counter = zero\n",
    "for q in range(len(Q)):\n",
    "    output.write(str(q+1)+' ')\n",
    "    i = np.argmax(CSim_matrix[q,:])\n",
    "    output.write(str(i+1)+' ')\n",
    "    output.write('-1'+'\\n')\n",
    "    CSim_matrix[q][i] = -1\n",
    "    for a in range(1,len(A)):\n",
    "        output.write(str(q+1)+' ')\n",
    "        index=np.argmax(CSim_matrix[q,:])\n",
    "        output.write(str(i+1)+' ')\n",
    "        CSim_matrix[q][i] = -1\n",
    "        counter += one\n",
    "        #print(counter)\n",
    "        if (counter <= x):\n",
    "            output.write('1'+'\\n')\n",
    "        elif (counter <= y):\n",
    "            output.write('2'+'\\n')\n",
    "        elif (counter <= z):\n",
    "            output.write('3'+'\\n')\n",
    "        else:\n",
    "            output.write('4'+'\\n')\n",
    "output.close() "
   ]
  }
 ],
 "metadata": {
  "interpreter": {
   "hash": "7a0710614ee17d52294bb97562ff5c30e7192bdf0a4370f6fe4f548681a0db4f"
  },
  "kernelspec": {
   "display_name": "Python 3.8.8 ('base')",
   "language": "python",
   "name": "python3"
  },
  "language_info": {
   "codemirror_mode": {
    "name": "ipython",
    "version": 3
   },
   "file_extension": ".py",
   "mimetype": "text/x-python",
   "name": "python",
   "nbconvert_exporter": "python",
   "pygments_lexer": "ipython3",
   "version": "3.8.8"
  },
  "orig_nbformat": 4
 },
 "nbformat": 4,
 "nbformat_minor": 2
}
