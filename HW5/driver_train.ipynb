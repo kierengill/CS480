{
 "cells": [
  {
   "cell_type": "code",
   "execution_count": 2,
   "metadata": {},
   "outputs": [],
   "source": [
    "from functions import is_number"
   ]
  },
  {
   "cell_type": "code",
   "execution_count": 3,
   "metadata": {},
   "outputs": [
    {
     "data": {
      "text/plain": [
       "1"
      ]
     },
     "execution_count": 3,
     "metadata": {},
     "output_type": "execute_result"
    }
   ],
   "source": [
    "info = []\n",
    "with open('WSJ_02-21.pos-chunk') as f:\n",
    "    info = f.readlines()\n",
    "info = [i.strip() for i in info]\n",
    "output = open('training.feature','w+')\n",
    "output.write('\\n')"
   ]
  },
  {
   "cell_type": "code",
   "execution_count": 4,
   "metadata": {},
   "outputs": [],
   "source": [
    "for i in range(1,len(info)):\n",
    "    values = info[i].split()\n",
    "    previous, previous2 = info[i-1].split(), []\n",
    "    forward, forward2 = [], []\n",
    "    prev_BIO = 'prev_BIO=@@'\n",
    "\n",
    "    if i != (len(info)-1):\n",
    "        forward = info[i+1].split()\n",
    "    if (i != (len(info)-1)) and (i != (len(info)-2)):\n",
    "        forward2 = info[i+2].split()\n",
    "    if i != 1:\n",
    "        previous2 = info[i-2].split()\n",
    "\n",
    "    if len(values) == 0:\n",
    "        output.write('\\n')\n",
    "    else:\n",
    "        output.write(values[0]+'\\t'+'POS='+values[1]+'\\t')\n",
    "        output.write('word='+values[0]+'\\t')\n",
    "        if len(forward) == 0:\n",
    "            output.write('forward_POS=end'+'\\t'+'forward_word=end'+'\\t')\n",
    "        else:\n",
    "            output.write('forward_POS='+forward[1]+'\\t'+'forward_word='+forward[0]+'\\t')                    \n",
    "        if len(forward2) == 0:\n",
    "            output.write('forward2_POS=end'+'\\t'+'forward2_word=end'+'\\t')\n",
    "        else:\n",
    "            output.write('forward2_POS='+forward2[1]+'\\t'+'forward2_word='+forward2[0]+'\\t')\n",
    "        if len(previous) == 0:\n",
    "            output.write('prev_POS=start'+'\\t'+'prev_word=start'+'\\t'+prev_BIO+'\\t')\n",
    "        else:\n",
    "            output.write('prev_POS='+previous[1]+'\\t'+'prev_word='+previous[0]+'\\t'+prev_BIO+'\\t')\n",
    "        if len(previous2) == 0:\n",
    "            output.write('prev2_POS=start'+'\\t'+'prev2_word=start'+'\\t')\n",
    "        else:\n",
    "            output.write('prev2_POS='+previous2[1]+'\\t'+'prev2_word='+previous2[0]+'\\t')\n",
    "        if values[0][0].isupper():\n",
    "            output.write('capital_letter='+'1'+'\\t')\n",
    "        else:\n",
    "            output.write('capital_letter='+'0'+'\\t')      \n",
    "        if is_number(values[0]):\n",
    "            output.write('is_number='+'1'+'\\t')\n",
    "        else:\n",
    "            output.write('is_number='+'0'+'\\t')   \n",
    "        output.write(values[2]+'\\n')       "
   ]
  }
 ],
 "metadata": {
  "interpreter": {
   "hash": "7a0710614ee17d52294bb97562ff5c30e7192bdf0a4370f6fe4f548681a0db4f"
  },
  "kernelspec": {
   "display_name": "Python 3.8.8 ('base')",
   "language": "python",
   "name": "python3"
  },
  "language_info": {
   "codemirror_mode": {
    "name": "ipython",
    "version": 3
   },
   "file_extension": ".py",
   "mimetype": "text/x-python",
   "name": "python",
   "nbconvert_exporter": "python",
   "pygments_lexer": "ipython3",
   "version": "3.8.8"
  },
  "orig_nbformat": 4
 },
 "nbformat": 4,
 "nbformat_minor": 2
}
